{
 "cells": [
  {
   "cell_type": "markdown",
   "id": "07757c76",
   "metadata": {},
   "source": [
    "# Bitflyerでビットコインの自動売買BOTを作ろう"
   ]
  },
  {
   "cell_type": "markdown",
   "id": "10413f70",
   "metadata": {},
   "source": [
    "## 1. Bitflyer API 入門\n",
    "---"
   ]
  },
  {
   "cell_type": "code",
   "execution_count": 26,
   "id": "823b7469",
   "metadata": {},
   "outputs": [
    {
     "name": "stdout",
     "output_type": "stream",
     "text": [
      "Requirement already satisfied: ccxt in /Users/yuji/.pyenv/versions/3.9.10/envs/batman/lib/python3.9/site-packages (1.80.56)\n",
      "Requirement already satisfied: certifi>=2018.1.18 in /Users/yuji/.pyenv/versions/3.9.10/envs/batman/lib/python3.9/site-packages (from ccxt) (2021.10.8)\n",
      "Requirement already satisfied: setuptools>=60.9.0 in /Users/yuji/.pyenv/versions/3.9.10/envs/batman/lib/python3.9/site-packages (from ccxt) (62.1.0)\n",
      "Requirement already satisfied: requests>=2.18.4 in /Users/yuji/.pyenv/versions/3.9.10/envs/batman/lib/python3.9/site-packages (from ccxt) (2.27.1)\n",
      "Requirement already satisfied: aiohttp>=3.8 in /Users/yuji/.pyenv/versions/3.9.10/envs/batman/lib/python3.9/site-packages (from ccxt) (3.8.1)\n",
      "Requirement already satisfied: cryptography>=2.6.1 in /Users/yuji/.pyenv/versions/3.9.10/envs/batman/lib/python3.9/site-packages (from ccxt) (36.0.2)\n",
      "Requirement already satisfied: aiodns>=1.1.1 in /Users/yuji/.pyenv/versions/3.9.10/envs/batman/lib/python3.9/site-packages (from ccxt) (3.0.0)\n",
      "Requirement already satisfied: yarl==1.7.2 in /Users/yuji/.pyenv/versions/3.9.10/envs/batman/lib/python3.9/site-packages (from ccxt) (1.7.2)\n",
      "Requirement already satisfied: idna>=2.0 in /Users/yuji/.pyenv/versions/3.9.10/envs/batman/lib/python3.9/site-packages (from yarl==1.7.2->ccxt) (3.3)\n",
      "Requirement already satisfied: multidict>=4.0 in /Users/yuji/.pyenv/versions/3.9.10/envs/batman/lib/python3.9/site-packages (from yarl==1.7.2->ccxt) (6.0.2)\n",
      "Requirement already satisfied: pycares>=4.0.0 in /Users/yuji/.pyenv/versions/3.9.10/envs/batman/lib/python3.9/site-packages (from aiodns>=1.1.1->ccxt) (4.1.2)\n",
      "Requirement already satisfied: aiosignal>=1.1.2 in /Users/yuji/.pyenv/versions/3.9.10/envs/batman/lib/python3.9/site-packages (from aiohttp>=3.8->ccxt) (1.2.0)\n",
      "Requirement already satisfied: async-timeout<5.0,>=4.0.0a3 in /Users/yuji/.pyenv/versions/3.9.10/envs/batman/lib/python3.9/site-packages (from aiohttp>=3.8->ccxt) (4.0.2)\n",
      "Requirement already satisfied: attrs>=17.3.0 in /Users/yuji/.pyenv/versions/3.9.10/envs/batman/lib/python3.9/site-packages (from aiohttp>=3.8->ccxt) (21.4.0)\n",
      "Requirement already satisfied: charset-normalizer<3.0,>=2.0 in /Users/yuji/.pyenv/versions/3.9.10/envs/batman/lib/python3.9/site-packages (from aiohttp>=3.8->ccxt) (2.0.12)\n",
      "Requirement already satisfied: frozenlist>=1.1.1 in /Users/yuji/.pyenv/versions/3.9.10/envs/batman/lib/python3.9/site-packages (from aiohttp>=3.8->ccxt) (1.3.0)\n",
      "Requirement already satisfied: cffi>=1.12 in /Users/yuji/.pyenv/versions/3.9.10/envs/batman/lib/python3.9/site-packages (from cryptography>=2.6.1->ccxt) (1.15.0)\n",
      "Requirement already satisfied: pycparser in /Users/yuji/.pyenv/versions/3.9.10/envs/batman/lib/python3.9/site-packages (from cffi>=1.12->cryptography>=2.6.1->ccxt) (2.21)\n",
      "Requirement already satisfied: urllib3<1.27,>=1.21.1 in /Users/yuji/.pyenv/versions/3.9.10/envs/batman/lib/python3.9/site-packages (from requests>=2.18.4->ccxt) (1.26.9)\n",
      "\u001b[33mWARNING: You are using pip version 21.2.4; however, version 22.0.4 is available.\n",
      "You should consider upgrading via the '/Users/yuji/.pyenv/versions/3.9.10/envs/batman/bin/python3.9 -m pip install --upgrade pip' command.\u001b[0m\n"
     ]
    }
   ],
   "source": [
    "! pip install ccxt"
   ]
  },
  {
   "cell_type": "code",
   "execution_count": 5,
   "id": "ed890cb7",
   "metadata": {},
   "outputs": [],
   "source": [
    "import ccxt\n",
    "from pprint import pprint"
   ]
  },
  {
   "cell_type": "code",
   "execution_count": 4,
   "id": "d63d5027",
   "metadata": {},
   "outputs": [
    {
     "name": "stdout",
     "output_type": "stream",
     "text": [
      "{'CORS': None,\n",
      " 'addMargin': None,\n",
      " 'cancelAllOrders': None,\n",
      " 'cancelOrder': True,\n",
      " 'cancelOrders': None,\n",
      " 'createDepositAddress': None,\n",
      " 'createLimitOrder': True,\n",
      " 'createMarketOrder': True,\n",
      " 'createOrder': True,\n",
      " 'createPostOnlyOrder': None,\n",
      " 'createStopLimitOrder': None,\n",
      " 'createStopMarketOrder': None,\n",
      " 'createStopOrder': None,\n",
      " 'editOrder': 'emulated',\n",
      " 'fetchAccounts': None,\n",
      " 'fetchBalance': True,\n",
      " 'fetchBidsAsks': None,\n",
      " 'fetchBorrowInterest': None,\n",
      " 'fetchBorrowRate': None,\n",
      " 'fetchBorrowRateHistory': None,\n",
      " 'fetchBorrowRates': None,\n",
      " 'fetchBorrowRatesPerSymbol': None,\n",
      " 'fetchCanceledOrders': None,\n",
      " 'fetchClosedOrder': None,\n",
      " 'fetchClosedOrders': None,\n",
      " 'fetchCurrencies': 'emulated',\n",
      " 'fetchDeposit': None,\n",
      " 'fetchDepositAddress': None,\n",
      " 'fetchDepositAddresses': None,\n",
      " 'fetchDepositAddressesByNetwork': None,\n",
      " 'fetchDeposits': None,\n",
      " 'fetchFundingFee': None,\n",
      " 'fetchFundingFees': None,\n",
      " 'fetchFundingHistory': None,\n",
      " 'fetchFundingRate': None,\n",
      " 'fetchFundingRateHistory': None,\n",
      " 'fetchFundingRates': None,\n",
      " 'fetchIndexOHLCV': None,\n",
      " 'fetchL2OrderBook': True,\n",
      " 'fetchLedger': None,\n",
      " 'fetchLedgerEntry': None,\n",
      " 'fetchLeverageTiers': None,\n",
      " 'fetchMarkOHLCV': None,\n",
      " 'fetchMarketLeverageTiers': None,\n",
      " 'fetchMarkets': True,\n",
      " 'fetchMyTrades': None,\n",
      " 'fetchOHLCV': 'emulated',\n",
      " 'fetchOpenOrder': None,\n",
      " 'fetchOpenOrders': None,\n",
      " 'fetchOrder': None,\n",
      " 'fetchOrderBook': True,\n",
      " 'fetchOrderBooks': None,\n",
      " 'fetchOrderTrades': None,\n",
      " 'fetchOrders': None,\n",
      " 'fetchPermissions': None,\n",
      " 'fetchPosition': None,\n",
      " 'fetchPositions': None,\n",
      " 'fetchPositionsRisk': None,\n",
      " 'fetchPremiumIndexOHLCV': None,\n",
      " 'fetchStatus': 'emulated',\n",
      " 'fetchTicker': True,\n",
      " 'fetchTickers': None,\n",
      " 'fetchTime': None,\n",
      " 'fetchTrades': True,\n",
      " 'fetchTradingFee': None,\n",
      " 'fetchTradingFees': None,\n",
      " 'fetchTradingLimits': None,\n",
      " 'fetchTransactions': None,\n",
      " 'fetchTransfers': None,\n",
      " 'fetchWithdrawal': None,\n",
      " 'fetchWithdrawals': None,\n",
      " 'future': None,\n",
      " 'loadMarkets': True,\n",
      " 'margin': None,\n",
      " 'option': None,\n",
      " 'privateAPI': True,\n",
      " 'publicAPI': True,\n",
      " 'reduceMargin': None,\n",
      " 'setLeverage': None,\n",
      " 'setMarginMode': None,\n",
      " 'setPositionMode': None,\n",
      " 'signIn': None,\n",
      " 'spot': None,\n",
      " 'swap': None,\n",
      " 'transfer': None,\n",
      " 'withdraw': None}\n"
     ]
    }
   ],
   "source": [
    "bitflyer = ccxt.bitflyer\n",
    "pprint(bitflyer.has)"
   ]
  },
  {
   "cell_type": "code",
   "execution_count": 6,
   "id": "3ac57bd8",
   "metadata": {},
   "outputs": [
    {
     "name": "stdout",
     "output_type": "stream",
     "text": [
      "{'ask': 5110769.0,\n",
      " 'askVolume': None,\n",
      " 'average': None,\n",
      " 'baseVolume': 508.29494462,\n",
      " 'bid': 5107800.0,\n",
      " 'bidVolume': None,\n",
      " 'change': None,\n",
      " 'close': 5109594.0,\n",
      " 'datetime': '2022-04-24T07:25:19.880Z',\n",
      " 'high': None,\n",
      " 'info': {'best_ask': '5110769.0',\n",
      "          'best_ask_size': '0.03',\n",
      "          'best_bid': '5107800.0',\n",
      "          'best_bid_size': '0.02',\n",
      "          'ltp': '5109594.0',\n",
      "          'market_ask_size': '0.0',\n",
      "          'market_bid_size': '0.0',\n",
      "          'product_code': 'BTC_JPY',\n",
      "          'state': 'RUNNING',\n",
      "          'tick_id': '8084860',\n",
      "          'timestamp': '2022-04-24T07:25:19.88',\n",
      "          'total_ask_depth': '708.52291605',\n",
      "          'total_bid_depth': '444.40037777',\n",
      "          'volume': '2563.29822123',\n",
      "          'volume_by_product': '508.29494462'},\n",
      " 'last': 5109594.0,\n",
      " 'low': None,\n",
      " 'open': None,\n",
      " 'percentage': None,\n",
      " 'previousClose': None,\n",
      " 'quoteVolume': None,\n",
      " 'symbol': 'BTC/JPY',\n",
      " 'timestamp': 1650785119880,\n",
      " 'vwap': None}\n"
     ]
    }
   ],
   "source": [
    "bitflyer = ccxt.bitflyer()\n",
    "ticker = bitflyer.fetch_ticker('BTC/JPY', params={\"product_code\" : \"BTC_JPY\"})\n",
    "pprint(ticker)"
   ]
  },
  {
   "cell_type": "code",
   "execution_count": 7,
   "id": "9798aae4",
   "metadata": {},
   "outputs": [
    {
     "name": "stdout",
     "output_type": "stream",
     "text": [
      "{'collateral': '15512.000000000000',\n",
      " 'keep_rate': '0.0',\n",
      " 'margin_call_amount': '0.0',\n",
      " 'margin_call_due_date': None,\n",
      " 'open_position_pnl': '0.0',\n",
      " 'require_collateral': '0.0'}\n"
     ]
    }
   ],
   "source": [
    "bitflyer.apiKey = '' # hide for security\n",
    "bitflyer.secret = '' # hide for security\n",
    "\n",
    "collateral = bitflyer.private_get_getcollateral()\n",
    "pprint(collateral)"
   ]
  },
  {
   "cell_type": "markdown",
   "id": "038acbcc",
   "metadata": {},
   "source": [
    "## 2. 売買注文編\n",
    "---"
   ]
  },
  {
   "cell_type": "markdown",
   "id": "9a6bbc02",
   "metadata": {},
   "source": [
    "### 買い注文を出す"
   ]
  },
  {
   "cell_type": "code",
   "execution_count": 10,
   "id": "ca914746",
   "metadata": {},
   "outputs": [
    {
     "name": "stdout",
     "output_type": "stream",
     "text": [
      "{'id': 'JRF20220424-073758-046602',\n",
      " 'info': {'child_order_acceptance_id': 'JRF20220424-073758-046602'}}\n"
     ]
    }
   ],
   "source": [
    "order = bitflyer.create_order(\n",
    "    symbol = 'BTC/JPY',\n",
    "    type = 'limit',\n",
    "    side = 'buy',\n",
    "    price = '5000000',\n",
    "    amount = '0.001',\n",
    "    params = {\"product_code\" : \"BTC_JPY\"}\n",
    ")\n",
    "\n",
    "pprint(order)"
   ]
  },
  {
   "cell_type": "markdown",
   "id": "e730c17c",
   "metadata": {},
   "source": [
    "### 注文状況の確認"
   ]
  },
  {
   "cell_type": "code",
   "execution_count": 14,
   "id": "a3302224",
   "metadata": {},
   "outputs": [
    {
     "name": "stdout",
     "output_type": "stream",
     "text": [
      "'JRF20220424-073601-019152'\n",
      "'JRF20220424-073757-063519'\n",
      "'JRF20220424-073758-046602'\n"
     ]
    }
   ],
   "source": [
    "orders = bitflyer.fetch_open_orders(\n",
    "    symbol = \"BTC/JPY\",\n",
    "    params = {\"product_code\" : \"BTC_JPY\"}\n",
    ")\n",
    "\n",
    "for order in orders:\n",
    "    pprint(order[\"id\"])"
   ]
  },
  {
   "cell_type": "code",
   "execution_count": 15,
   "id": "1f16b012",
   "metadata": {},
   "outputs": [
    {
     "name": "stdout",
     "output_type": "stream",
     "text": [
      "JRF20180220-235226-073110 注文状況 : closed\n",
      "JRF20180221-140143-056337 注文状況 : closed\n",
      "JRF20180222-124746-027235 注文状況 : closed\n",
      "JRF20180228-143939-005901 注文状況 : closed\n",
      "JRF20180307-074301-016095 注文状況 : closed\n",
      "JRF20180425-145959-150331 注文状況 : closed\n",
      "JRF20190403-044720-371324 注文状況 : closed\n",
      "JRF20220424-073601-019152 注文状況 : open\n",
      "JRF20220424-073757-063519 注文状況 : open\n",
      "JRF20220424-073758-046602 注文状況 : open\n"
     ]
    }
   ],
   "source": [
    "# 約定済みも含めて取得する\n",
    "orders = bitflyer.fetch_orders(\n",
    "    symbol = \"BTC/JPY\",\n",
    "    params = {\"product_code\": \"BTC_JPY\", \"count\": 10}\n",
    ")\n",
    "\n",
    "for order in orders:\n",
    "    print(order[\"id\"] + \" 注文状況 : \" + order[\"status\"])"
   ]
  },
  {
   "cell_type": "markdown",
   "id": "298650e6",
   "metadata": {},
   "source": [
    "### 注文をキャンセルする"
   ]
  },
  {
   "cell_type": "code",
   "execution_count": 16,
   "id": "eade70f6",
   "metadata": {},
   "outputs": [
    {
     "data": {
      "text/plain": [
       "b''"
      ]
     },
     "execution_count": 16,
     "metadata": {},
     "output_type": "execute_result"
    }
   ],
   "source": [
    "bitflyer.cancel_order(\n",
    "    symbol = \"BTC/JPY\",\n",
    "    id = \"JRF20220424-073758-046602\",\n",
    "    params = {\"product_code\" : \"BTC_JPY\"}\n",
    ")"
   ]
  },
  {
   "cell_type": "code",
   "execution_count": 17,
   "id": "8b5c4355",
   "metadata": {},
   "outputs": [
    {
     "name": "stdout",
     "output_type": "stream",
     "text": [
      "'JRF20220424-073601-019152'\n",
      "'JRF20220424-073757-063519'\n"
     ]
    }
   ],
   "source": [
    "orders = bitflyer.fetch_open_orders(\n",
    "    symbol = \"BTC/JPY\",\n",
    "    params = {\"product_code\" : \"BTC_JPY\"}\n",
    ")\n",
    "\n",
    "for order in orders:\n",
    "    pprint(order[\"id\"])"
   ]
  },
  {
   "cell_type": "code",
   "execution_count": 18,
   "id": "98995ca5",
   "metadata": {},
   "outputs": [
    {
     "data": {
      "text/plain": [
       "b''"
      ]
     },
     "execution_count": 18,
     "metadata": {},
     "output_type": "execute_result"
    }
   ],
   "source": [
    "orders = bitflyer.fetch_open_orders(\n",
    "    symbol = \"BTC/JPY\",\n",
    "    params = {\"product_code\" : \"BTC_JPY\"}\n",
    ")\n",
    "\n",
    "bitflyer.cancel_order(\n",
    "    symbol = \"BTC/JPY\",\n",
    "    id = orders[-1][\"id\"],\n",
    "    params = {\"product_code\" : \"BTC_JPY\"}\n",
    ")"
   ]
  },
  {
   "cell_type": "markdown",
   "id": "1b7b40c0",
   "metadata": {},
   "source": [
    "#### 演習"
   ]
  },
  {
   "cell_type": "code",
   "execution_count": 25,
   "id": "04182029",
   "metadata": {},
   "outputs": [],
   "source": [
    "# Buy oder\n",
    "# order = bitflyer.create_order(\n",
    "#     symbol = 'BTC/JPY',\n",
    "#     type = 'limit',\n",
    "#     side = 'buy',\n",
    "#     price = '5000000',\n",
    "#     amount = '0.001',\n",
    "#     params = {\"product_code\" : \"BTC_JPY\"}\n",
    "# )\n",
    "\n",
    "# Check the orders\n",
    "orders = bitflyer.fetch_open_orders(\n",
    "    symbol = \"BTC/JPY\",\n",
    "    params = {\"product_code\" : \"BTC_JPY\"}\n",
    ")\n",
    "\n",
    "# Cancel the orders\n",
    "for order in orders:\n",
    "    bitflyer.cancel_order(\n",
    "        symbol = \"BTC/JPY\",\n",
    "        id = order[\"id\"],\n",
    "        params = {\"product_code\": \"BTC_JPY\"}\n",
    "    )\n",
    "\n",
    "# Recheck the orders\n",
    "orders = bitflyer.fetch_open_orders(\n",
    "    symbol = \"BTC/JPY\",\n",
    "    params = {\"product_code\" : \"BTC_JPY\"}\n",
    ")"
   ]
  },
  {
   "cell_type": "markdown",
   "id": "3fd5557c",
   "metadata": {},
   "source": [
    "## 3. BOT作成編\n",
    "---"
   ]
  },
  {
   "cell_type": "markdown",
   "id": "231fd970",
   "metadata": {},
   "source": [
    "### ロジックを考える\n",
    "https://ryota-trade.com/?p=895"
   ]
  },
  {
   "cell_type": "markdown",
   "id": "55c6accf",
   "metadata": {},
   "source": [
    "### 価格データを取得する"
   ]
  },
  {
   "cell_type": "code",
   "execution_count": 29,
   "id": "869fe753",
   "metadata": {},
   "outputs": [],
   "source": [
    "import requests\n",
    "from datetime import datetime\n",
    "import time"
   ]
  },
  {
   "cell_type": "code",
   "execution_count": 28,
   "id": "f3496f08",
   "metadata": {},
   "outputs": [
    {
     "name": "stdout",
     "output_type": "stream",
     "text": [
      "時間: 2022/04/24 17:48 始値: 5110255 終値: 5113264\n"
     ]
    }
   ],
   "source": [
    "# Get price data from Cryptowatch's API to provide price data\n",
    "response = requests.get(\"https://api.cryptowat.ch/markets/bitflyer/btcjpy/ohlc?periods=60\")\n",
    "response = response.json()\n",
    "\n",
    "# Why [-2] -> because the closing price, etc. has not yet been determined.\n",
    "data = response[\"result\"][\"60\"][-2] # latest data\n",
    "close_time = datetime.fromtimestamp(data[0]).strftime('%Y/%m/%d %H:%M')\n",
    "open_price = data[1]\n",
    "close_price = data[4]\n",
    "\n",
    "print(\"時間: \" + close_time + \" 始値: \" + str(open_price) + \" 終値: \" + str(close_price))"
   ]
  },
  {
   "cell_type": "code",
   "execution_count": 32,
   "id": "fb431ded",
   "metadata": {},
   "outputs": [
    {
     "name": "stdout",
     "output_type": "stream",
     "text": [
      "時間: 2022/04/24 18:06 始値: 5103431 終値: 5100500\n",
      "時間: 2022/04/24 18:07 始値: 5100630 終値: 5105690\n",
      "時間: 2022/04/24 18:08 始値: 5102924 終値: 5101076\n",
      "時間: 2022/04/24 18:09 始値: 5099729 終値: 5101079\n"
     ]
    },
    {
     "ename": "KeyboardInterrupt",
     "evalue": "",
     "output_type": "error",
     "traceback": [
      "\u001b[0;31m---------------------------------------------------------------------------\u001b[0m",
      "\u001b[0;31mKeyboardInterrupt\u001b[0m                         Traceback (most recent call last)",
      "\u001b[1;32m/Users/yuji/Documents/batman/note.ipynb Cell 25'\u001b[0m in \u001b[0;36m<cell line: 9>\u001b[0;34m()\u001b[0m\n\u001b[1;32m     <a href='vscode-notebook-cell:/Users/yuji/Documents/batman/note.ipynb#ch0000037?line=18'>19</a>\u001b[0m     \u001b[39mprint\u001b[39m(\u001b[39m\"\u001b[39m\u001b[39m時間: \u001b[39m\u001b[39m\"\u001b[39m \u001b[39m+\u001b[39m close_time \u001b[39m+\u001b[39m \u001b[39m\"\u001b[39m\u001b[39m 始値: \u001b[39m\u001b[39m\"\u001b[39m \u001b[39m+\u001b[39m \u001b[39mstr\u001b[39m(open_price) \u001b[39m+\u001b[39m \u001b[39m\"\u001b[39m\u001b[39m 終値: \u001b[39m\u001b[39m\"\u001b[39m \u001b[39m+\u001b[39m \u001b[39mstr\u001b[39m(close_price))\n\u001b[1;32m     <a href='vscode-notebook-cell:/Users/yuji/Documents/batman/note.ipynb#ch0000037?line=19'>20</a>\u001b[0m     last_time \u001b[39m=\u001b[39m close_time\n\u001b[0;32m---> <a href='vscode-notebook-cell:/Users/yuji/Documents/batman/note.ipynb#ch0000037?line=21'>22</a>\u001b[0m time\u001b[39m.\u001b[39;49msleep(\u001b[39m10\u001b[39;49m)\n",
      "\u001b[0;31mKeyboardInterrupt\u001b[0m: "
     ]
    }
   ],
   "source": [
    "response = requests.get(\"https://api.cryptowat.ch/markets/bitflyer/btcjpy/ohlc?periods=60\")\n",
    "response = response.json()\n",
    "\n",
    "last_data = response[\"result\"][\"60\"][-2]\n",
    "last_time = datetime.fromtimestamp(last_data[0]).strftime('%Y/%m/%d %H:%M')\n",
    "time.sleep(10)\n",
    "\n",
    "while True:\n",
    "    response = requests.get(\"https://api.cryptowat.ch/markets/bitflyer/btcjpy/ohlc?periods=60\")\n",
    "    response = response.json()\n",
    "\n",
    "    data = response[\"result\"][\"60\"][-2]\n",
    "\n",
    "    close_time = datetime.fromtimestamp(data[0]).strftime('%Y/%m/%d %H:%M')\n",
    "    open_price = data[1]\n",
    "    close_price = data[4]\n",
    "\n",
    "    if close_time != last_time:\n",
    "        print(\"時間: \" + close_time + \" 始値: \" + str(open_price) + \" 終値: \" + str(close_price))\n",
    "        last_time = close_time\n",
    "\n",
    "    time.sleep(10)\n"
   ]
  },
  {
   "cell_type": "markdown",
   "id": "17ec07db",
   "metadata": {},
   "source": [
    "# Temp"
   ]
  },
  {
   "cell_type": "code",
   "execution_count": 7,
   "id": "e418045d",
   "metadata": {},
   "outputs": [
    {
     "name": "stdout",
     "output_type": "stream",
     "text": [
      "2973\n",
      "<class 'pandas.core.frame.DataFrame'>\n",
      "                                   Open          High           Low  \\\n",
      "Date                                                                  \n",
      "2014-09-17 00:00:00+00:00  4.991267e+04  5.019294e+04  4.899278e+04   \n",
      "2014-09-18 00:00:00+00:00  4.958758e+04  4.956474e+04  4.492919e+04   \n",
      "2014-09-19 00:00:00+00:00  4.614241e+04  4.671102e+04  4.182939e+04   \n",
      "2014-09-20 00:00:00+00:00  4.302330e+04  4.614350e+04  4.250114e+04   \n",
      "2014-09-21 00:00:00+00:00  4.448534e+04  4.495856e+04  4.286066e+04   \n",
      "...                                 ...           ...           ...   \n",
      "2022-11-02 00:00:00+00:00  3.029616e+06  3.028264e+06  2.972605e+06   \n",
      "2022-11-03 00:00:00+00:00  2.981874e+06  3.002823e+06  2.980221e+06   \n",
      "2022-11-04 00:00:00+00:00  2.998726e+06  3.113064e+06  2.993166e+06   \n",
      "2022-11-05 00:00:00+00:00  3.099938e+06  3.144221e+06  3.093019e+06   \n",
      "2022-11-07 00:00:00+00:00  3.073869e+06  3.077609e+06  3.069771e+06   \n",
      "\n",
      "                                  Close         Volume  Dividends  \\\n",
      "Date                                                                \n",
      "2014-09-17 00:00:00+00:00  4.963904e+04     2285505072          0   \n",
      "2014-09-18 00:00:00+00:00  4.617907e+04     3751772160          0   \n",
      "2014-09-19 00:00:00+00:00  4.303671e+04     4133626497          0   \n",
      "2014-09-20 00:00:00+00:00  4.457462e+04     4018501036          0   \n",
      "2014-09-21 00:00:00+00:00  4.345155e+04     2895901895          0   \n",
      "...                                 ...            ...        ...   \n",
      "2022-11-02 00:00:00+00:00  2.981402e+06  8215647379871          0   \n",
      "2022-11-03 00:00:00+00:00  2.998907e+06  6414600763653          0   \n",
      "2022-11-04 00:00:00+00:00  3.100290e+06  9393382281066          0   \n",
      "2022-11-05 00:00:00+00:00  3.120149e+06  5548419672752          0   \n",
      "2022-11-07 00:00:00+00:00  3.070162e+06  5353426649088          0   \n",
      "\n",
      "                           Stock Splits  \n",
      "Date                                     \n",
      "2014-09-17 00:00:00+00:00             0  \n",
      "2014-09-18 00:00:00+00:00             0  \n",
      "2014-09-19 00:00:00+00:00             0  \n",
      "2014-09-20 00:00:00+00:00             0  \n",
      "2014-09-21 00:00:00+00:00             0  \n",
      "...                                 ...  \n",
      "2022-11-02 00:00:00+00:00             0  \n",
      "2022-11-03 00:00:00+00:00             0  \n",
      "2022-11-04 00:00:00+00:00             0  \n",
      "2022-11-05 00:00:00+00:00             0  \n",
      "2022-11-07 00:00:00+00:00             0  \n",
      "\n",
      "[2973 rows x 7 columns]\n"
     ]
    }
   ],
   "source": [
    "import yfinance\n",
    "\n",
    "symbol = \"BTC-JPY\"\n",
    "period = \"max\"\n",
    "\n",
    "ticker = yfinance.Ticker(symbol)\n",
    "data = ticker.history(period=period)\n",
    "\n",
    "print(len(data))\n",
    "print(type(data))\n",
    "print(data)"
   ]
  },
  {
   "cell_type": "code",
   "execution_count": 3,
   "id": "b57ccb10",
   "metadata": {},
   "outputs": [
    {
     "name": "stdout",
     "output_type": "stream",
     "text": [
      "32\n",
      "<class 'pandas.core.frame.DataFrame'>\n"
     ]
    }
   ],
   "source": []
  },
  {
   "cell_type": "markdown",
   "id": "4180e3c0",
   "metadata": {},
   "source": []
  }
 ],
 "metadata": {
  "kernelspec": {
   "display_name": "Python 3.9.10 64-bit ('batman')",
   "language": "python",
   "name": "python3"
  },
  "language_info": {
   "codemirror_mode": {
    "name": "ipython",
    "version": 3
   },
   "file_extension": ".py",
   "mimetype": "text/x-python",
   "name": "python",
   "nbconvert_exporter": "python",
   "pygments_lexer": "ipython3",
   "version": "3.9.10"
  },
  "vscode": {
   "interpreter": {
    "hash": "c78e906343ab9fd6965476498cce2b659cf60dc8ff07a7308829d4bf4b3781a4"
   }
  }
 },
 "nbformat": 4,
 "nbformat_minor": 5
}
